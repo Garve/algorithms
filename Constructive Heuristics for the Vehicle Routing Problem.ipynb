{
 "cells": [
  {
   "cell_type": "markdown",
   "id": "20e6f1c2-ad54-4bb7-a464-41eec75cfc5d",
   "metadata": {},
   "source": [
    "# Constructive Heuristics for the Vehicle Routing Problem\n",
    "As described [here](https://allaboutalgorithms.com/constructive-heuristics-for-the-vehicle-routing-problem-3ffc5d713133)."
   ]
  },
  {
   "cell_type": "code",
   "execution_count": 1,
   "id": "1c86de95-7b4e-4add-8aa5-8c6cf6b2990b",
   "metadata": {},
   "outputs": [
    {
     "data": {
      "text/plain": [
       "(-0.022972159056386242,\n",
       " 0.9496067861578744,\n",
       " -0.043928214335027485,\n",
       " 0.9592446797784799)"
      ]
     },
     "execution_count": 1,
     "metadata": {},
     "output_type": "execute_result"
    },
    {
     "data": {
      "image/png": "[encoded data removed]",
      "text/plain": [
       "<Figure size 432x288 with 1 Axes>"
      ]
     },
     "metadata": {
      "needs_background": "light"
     },
     "output_type": "display_data"
    }
   ],
   "source": [
    "import random\n",
    "import matplotlib.pyplot as plt\n",
    "\n",
    "plt.style.use(\"fivethirtyeight\")\n",
    "random.seed(123)\n",
    "\n",
    "cities = [(0.5, 0.5)] + [(random.random(), random.random()) for _ in range(30)]\n",
    "\n",
    "plt.scatter(\n",
    "    [city[0] for city in cities],\n",
    "    [city[1] for city in cities],\n",
    ")\n",
    "plt.axis(\"off\")"
   ]
  },
  {
   "cell_type": "code",
   "execution_count": 2,
   "id": "da8cd90c-47d2-4b16-95c9-cbab284576d8",
   "metadata": {},
   "outputs": [],
   "source": [
    "import math\n",
    "\n",
    "distance_matrix = [\n",
    "    [math.sqrt((start_city[0] - end_city[0]) ** 2 + (start_city[1] - end_city[1]) ** 2) for end_city in cities]\n",
    "    for start_city in cities\n",
    "]"
   ]
  },
  {
   "cell_type": "code",
   "execution_count": 3,
   "id": "dc365493-a229-42a4-a2ba-e2c4b312d698",
   "metadata": {},
   "outputs": [],
   "source": [
    "def nearest_city(distance_matrix, depot, n_vehicles):\n",
    "    unvisited_cities = set(range(len(distance_matrix))) - {depot}\n",
    "    tours = [[depot] for vehicle in range(n_vehicles)]\n",
    "    lengths = [0 for vehicle in range(n_vehicles)]\n",
    "\n",
    "    while unvisited_cities:  # O(n)\n",
    "        min_distance, closest_city, best_vehicle = min(\n",
    "            (\n",
    "                (distance_matrix[tours[vehicle][-1]][city], city, vehicle)\n",
    "                for city in unvisited_cities\n",
    "                for vehicle in range(n_vehicles)\n",
    "            ),\n",
    "            key=lambda x: x[0],\n",
    "        )  # O(kn)\n",
    "        tours[best_vehicle].append(closest_city)\n",
    "        lengths[best_vehicle] += min_distance\n",
    "        unvisited_cities.remove(closest_city)\n",
    "\n",
    "    return [\n",
    "        {\"tour\": tours[vehicle] + [depot], \"length\": lengths[vehicle] + distance_matrix[tours[vehicle][-1]][depot]}\n",
    "        for vehicle in range(n_vehicles)\n",
    "    ]"
   ]
  },
  {
   "cell_type": "code",
   "execution_count": 4,
   "id": "953f3a2a-8d63-4b2b-8933-d5396f094a57",
   "metadata": {},
   "outputs": [
    {
     "data": {
      "image/png": "[encoded data removed]",
      "text/plain": [
       "<Figure size 432x288 with 1 Axes>"
      ]
     },
     "metadata": {
      "needs_background": "light"
     },
     "output_type": "display_data"
    }
   ],
   "source": [
    "def plot(result, cities, colors=\"rgbcmyk\"):\n",
    "    plt.scatter(\n",
    "        [city[0] for city in cities],\n",
    "        [city[1] for city in cities],\n",
    "    )\n",
    "\n",
    "    total_length = 0\n",
    "    for vehicle in range(len(result)):\n",
    "        plt.plot(\n",
    "            [cities[result[vehicle][\"tour\"][i]][0] for i in range(len(result[vehicle][\"tour\"]))],\n",
    "            [cities[result[vehicle][\"tour\"][i]][1] for i in range(len(result[vehicle][\"tour\"]))],\n",
    "            c=colors[vehicle],\n",
    "            linewidth=1,\n",
    "            zorder=-1,\n",
    "        )\n",
    "        total_length += result[vehicle][\"length\"]\n",
    "\n",
    "    plt.title(f\"Length = {total_length:.2f}\")\n",
    "\n",
    "    plt.axis(\"off\")\n",
    "\n",
    "\n",
    "result = nearest_city(distance_matrix, depot=0, n_vehicles=3)\n",
    "plot(result, cities)"
   ]
  },
  {
   "cell_type": "code",
   "execution_count": 5,
   "id": "bbf48454-9b57-4901-aed5-f817f31fb19a",
   "metadata": {},
   "outputs": [],
   "source": [
    "def greedy_insert(distance_matrix, depot, n_vehicles):\n",
    "    unvisited_cities = set(range(len(distance_matrix))) - {depot}\n",
    "    tours = [[depot, depot] for vehicle in range(n_vehicles)]\n",
    "    lengths = [0 for vehicle in range(n_vehicles)]\n",
    "\n",
    "    while unvisited_cities:  # O(n)\n",
    "        best_length, best_city, best_vehicle, best_i = min(\n",
    "            (\n",
    "                (\n",
    "                    lengths[vehicle]\n",
    "                    - distance_matrix[tours[vehicle][i - 1]][tours[vehicle][i]]\n",
    "                    + distance_matrix[tours[vehicle][i - 1]][city]\n",
    "                    + distance_matrix[city][tours[vehicle][i]],\n",
    "                    city,\n",
    "                    vehicle,\n",
    "                    i,\n",
    "                )\n",
    "                for city in unvisited_cities  # O(n)\n",
    "                for vehicle in range(n_vehicles)  # O(k)\n",
    "                for i in range(1, len(tours[vehicle]))  # O(n)\n",
    "            ),\n",
    "            key=lambda x: x[0],\n",
    "        )\n",
    "        tours[best_vehicle] = tours[best_vehicle][:best_i] + [best_city] + tours[best_vehicle][best_i:]\n",
    "        lengths[best_vehicle] = best_length\n",
    "        unvisited_cities.remove(best_city)\n",
    "\n",
    "    return [{\"tour\": tours[vehicle], \"length\": lengths[vehicle]} for vehicle in range(n_vehicles)]"
   ]
  },
  {
   "cell_type": "code",
   "execution_count": 6,
   "id": "c46dbd44-4714-4112-9375-f1fb10190deb",
   "metadata": {},
   "outputs": [
    {
     "data": {
      "image/png": "[encoded data removed]",
      "text/plain": [
       "<Figure size 432x288 with 1 Axes>"
      ]
     },
     "metadata": {
      "needs_background": "light"
     },
     "output_type": "display_data"
    }
   ],
   "source": [
    "result = greedy_insert(distance_matrix, depot=0, n_vehicles=3)\n",
    "plot(result, cities)"
   ]
  },
  {
   "cell_type": "code",
   "execution_count": null,
   "id": "21c021c4-46e6-4371-9cdb-dd472ba69b49",
   "metadata": {},
   "outputs": [],
   "source": []
  }
 ],
 "metadata": {
  "kernelspec": {
   "display_name": "Python 3",
   "language": "python",
   "name": "python3"
  },
  "language_info": {
   "codemirror_mode": {
    "name": "ipython",
    "version": 3
   },
   "file_extension": ".py",
   "mimetype": "text/x-python",
   "name": "python",
   "nbconvert_exporter": "python",
   "pygments_lexer": "ipython3",
   "version": "3.9.9"
  }
 },
 "nbformat": 4,
 "nbformat_minor": 5
}
