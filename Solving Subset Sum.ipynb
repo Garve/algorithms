{
 "cells": [
  {
   "cell_type": "markdown",
   "id": "21b19c82-61dc-4208-a4d4-65adebdcb3fc",
   "metadata": {},
   "source": [
    "# Solving Subset Sum\n",
    "As described [here](https://allaboutalgorithms.com/solving-the-subset-sum-problem-2f0eab761103)."
   ]
  },
  {
   "cell_type": "code",
   "execution_count": 1,
   "id": "bae4ece0-cf86-4336-b494-5d6b8646944e",
   "metadata": {},
   "outputs": [],
   "source": [
    "import random\n",
    "\n",
    "\n",
    "n = 10\n",
    "bound = 10000\n",
    "\n",
    "random.seed(0)  # so you get the same random numbers as me\n",
    "numbers = [random.randint(0, bound) for _ in range(n)]\n",
    "solution_mask = [random.randint(0, 1) for _ in range(n)]\n",
    "solution = [number for bit, number in zip(solution_mask, numbers) if bit]\n",
    "\n",
    "t = sum([bit * number for bit, number in zip(solution_mask, numbers)])"
   ]
  },
  {
   "cell_type": "code",
   "execution_count": 2,
   "id": "1ce834be-943a-4c9c-9dd6-d085028c038c",
   "metadata": {},
   "outputs": [],
   "source": [
    "from itertools import combinations\n",
    "\n",
    "\n",
    "def all_sublists(numbers):\n",
    "    for length in range(len(numbers) + 1):\n",
    "        for combination in combinations(numbers, length):\n",
    "            yield combination"
   ]
  },
  {
   "cell_type": "code",
   "execution_count": 3,
   "id": "8c8b6ed2-f7cf-43b8-8dab-b1cb79b8c5d1",
   "metadata": {},
   "outputs": [
    {
     "name": "stdout",
     "output_type": "stream",
     "text": [
      "()\n",
      "(1,)\n",
      "(2,)\n",
      "(3,)\n",
      "(1, 2)\n",
      "(1, 3)\n",
      "(2, 3)\n",
      "(1, 2, 3)\n"
     ]
    }
   ],
   "source": [
    "for sublist in all_sublists([1, 2, 3]):\n",
    "    print(sublist)"
   ]
  },
  {
   "cell_type": "code",
   "execution_count": 4,
   "id": "11e0f1a4-1e61-48c2-8b5e-c9f743b0726d",
   "metadata": {},
   "outputs": [],
   "source": [
    "def bruteforce(numbers, t):\n",
    "    for sublist in all_sublists(numbers):  # O(2^n)\n",
    "        if sum(sublist) == t:  # O(n), better implementation could do it in O(1)\n",
    "            return sublist"
   ]
  },
  {
   "cell_type": "code",
   "execution_count": 5,
   "id": "6eae191c-76ba-4cc7-add2-bdcf5656f604",
   "metadata": {},
   "outputs": [
    {
     "data": {
      "text/plain": [
       "(663, 7961, 4969)"
      ]
     },
     "execution_count": 5,
     "metadata": {},
     "output_type": "execute_result"
    }
   ],
   "source": [
    "bruteforce(numbers, t)"
   ]
  },
  {
   "cell_type": "code",
   "execution_count": 6,
   "id": "48576355-162c-4641-8794-3582258501b2",
   "metadata": {},
   "outputs": [],
   "source": [
    "def meet_in_the_middle(numbers, t):\n",
    "    n = len(numbers)\n",
    "    lookup_table = {}  # store the sublists of the first half here\n",
    "\n",
    "    for numbers_left in all_sublists(numbers[: n // 2]):  # O(2^(n/2) time\n",
    "        t_1 = sum(numbers_left)\n",
    "        lookup_table[t_1] = numbers_left  # O(2^(n/2) memory\n",
    "\n",
    "    for numbers_right in all_sublists(numbers[n // 2 :]):  # O(2^(n/2) time\n",
    "        t_2 = sum(numbers_right)  # O(n)\n",
    "        t_1 = t - t_2  # equivalent to t = t1 + t2\n",
    "        if t_1 in lookup_table:  # fast O(1) lookup since it is a dictionary (hash table)\n",
    "            return lookup_table[t_1] + numbers_right"
   ]
  },
  {
   "cell_type": "code",
   "execution_count": 7,
   "id": "5c9a53e1-cba0-499e-b7eb-b669fee99202",
   "metadata": {},
   "outputs": [
    {
     "data": {
      "text/plain": [
       "(663, 7961, 4969)"
      ]
     },
     "execution_count": 7,
     "metadata": {},
     "output_type": "execute_result"
    }
   ],
   "source": [
    "meet_in_the_middle(numbers, t)"
   ]
  },
  {
   "cell_type": "code",
   "execution_count": 8,
   "id": "0d01d711-ba43-40d4-b2de-078b1e092a60",
   "metadata": {},
   "outputs": [],
   "source": [
    "def dynamic_programming(numbers, t):\n",
    "    n = len(numbers)\n",
    "    table = [[None for i in range(t + 1)] for j in range(n + 1)]  # time and space O(n*t)\n",
    "    table[0][0] = ()  # empty list yields a sum of 0\n",
    "\n",
    "    for j in range(1, n + 1):  # O(n)\n",
    "        for i in range(t + 1):  # O(t)\n",
    "            if table[j - 1][i] is not None:  # case 1\n",
    "                table[j][i] = table[j - 1][i]\n",
    "            elif i - numbers[j - 1] >= 0 and table[j - 1][i - numbers[j - 1]] is not None:  # case 2\n",
    "                table[j][i] = table[j - 1][i - numbers[j - 1]] + (numbers[j - 1],)\n",
    "\n",
    "    return table[n][t]"
   ]
  },
  {
   "cell_type": "code",
   "execution_count": 9,
   "id": "ec8fbfe9-bf88-4d3a-a135-893309fa8d24",
   "metadata": {},
   "outputs": [
    {
     "data": {
      "text/plain": [
       "(663, 7961, 4969)"
      ]
     },
     "execution_count": 9,
     "metadata": {},
     "output_type": "execute_result"
    }
   ],
   "source": [
    "dynamic_programming(numbers, t)"
   ]
  }
 ],
 "metadata": {
  "kernelspec": {
   "display_name": "Python 3",
   "language": "python",
   "name": "python3"
  },
  "language_info": {
   "codemirror_mode": {
    "name": "ipython",
    "version": 3
   },
   "file_extension": ".py",
   "mimetype": "text/x-python",
   "name": "python",
   "nbconvert_exporter": "python",
   "pygments_lexer": "ipython3",
   "version": "3.9.9"
  }
 },
 "nbformat": 4,
 "nbformat_minor": 5
}
