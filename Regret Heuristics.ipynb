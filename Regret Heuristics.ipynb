{
 "cells": [
  {
   "cell_type": "code",
   "execution_count": null,
   "id": "777ea25b-a6e1-4fb2-a4c9-46cf1983aad7",
   "metadata": {},
   "outputs": [],
   "source": [
    "# Regret Heuristics\n",
    "As "
   ]
  },
  {
   "cell_type": "code",
   "execution_count": null,
   "id": "5b3ec5ba-d76a-4d1e-b52c-c7496e13f1b1",
   "metadata": {},
   "outputs": [],
   "source": [
    "import math\n",
    "import random\n",
    "import matplotlib.pyplot as plt\n",
    "\n",
    "random.seed(123)\n",
    "plt.style.use(\"fivethirtyeight\")\n",
    "\n",
    "cities = [(random.random(), random.random()) for _ in range(30)]\n",
    "\n",
    "distance_matrix = [\n",
    "    [\n",
    "        math.sqrt((start_city[0] - end_city[0])**2 + (start_city[1] - end_city[1])**2)\n",
    "        for end_city in cities\n",
    "    ]\n",
    "    for start_city in cities\n",
    "]\n",
    "\n",
    "plt.scatter(\n",
    "    [city[0] for city in cities],\n",
    "    [city[1] for city in cities],\n",
    ")\n",
    "plt.axis(\"off\")"
   ]
  },
  {
   "cell_type": "code",
   "execution_count": null,
   "id": "6d462e06-9bf1-4e7a-b2b2-0b3c974eebab",
   "metadata": {},
   "outputs": [],
   "source": [
    "def regretful_insert(distance_matrix, start, k=2):\n",
    "    unvisited_cities = set(range(len(distance_matrix))) - {start}\n",
    "    tour = [start, start]\n",
    "    total_length = 0\n",
    "\n",
    "    while unvisited_cities: # O(n)\n",
    "        regrets = []\n",
    "        for city in unvisited_cities: # O(n)\n",
    "            insertion_data = sorted(\n",
    "                (\n",
    "                    (\n",
    "                        total_length\n",
    "                        - distance_matrix[tour[i - 1]][tour[i]]\n",
    "                        + distance_matrix[tour[i - 1]][city]\n",
    "                        + distance_matrix[city][tour[i]],\n",
    "                        i,\n",
    "                    )\n",
    "                    for i in range(1, len(tour)) \n",
    "                ),\n",
    "                key=lambda x: x[0],\n",
    "            ) # for the city, we have a sorted list of insertions, O(n log(n))\n",
    "            if len(insertion_data) >= k:\n",
    "                regret = insertion_data[k - 1][0] - insertion_data[0][0] # best length minus k-th best length\n",
    "            else:\n",
    "                regret = -insertion_data[0][0] # we don't have enough alternatives, so be greedy here\n",
    "\n",
    "            length, best_i = insertion_data[0]\n",
    "\n",
    "            regrets.append((regret, city, best_i, length))\n",
    "\n",
    "        _, best_city, best_i, total_length = max(regrets, key=lambda x: x[0]) # pick city with highest regret, O(n)\n",
    "        tour = tour[:best_i] + [best_city] + tour[best_i:]\n",
    "        unvisited_cities.remove(best_city)\n",
    "\n",
    "    return {\"tour\": tour, \"length\": total_length}"
   ]
  },
  {
   "cell_type": "code",
   "execution_count": null,
   "id": "e8a3c39b-94b6-4ef5-9bfa-b9aaf7b510c5",
   "metadata": {},
   "outputs": [],
   "source": [
    "def regretful_insert_with_best_start(distance_matrix, k):\n",
    "    return min(\n",
    "        (regretful_insert(distance_matrix, start, k) for start in range(len(distance_matrix))),\n",
    "        key=lambda x: x[\"length\"]\n",
    "    )"
   ]
  },
  {
   "cell_type": "code",
   "execution_count": null,
   "id": "f68a624b-7f61-4df5-a51d-9de9154ab307",
   "metadata": {},
   "outputs": [],
   "source": [
    "def plot(result, cities):\n",
    "    plt.scatter(\n",
    "        [city[0] for city in cities],\n",
    "        [city[1] for city in cities],\n",
    "    )\n",
    "\n",
    "    plt.plot(\n",
    "        [cities[result[\"tour\"][i]][0] for i in range(len(result[\"tour\"]))],\n",
    "        [cities[result[\"tour\"][i]][1] for i in range(len(result[\"tour\"]))],\n",
    "        c=\"k\", linewidth=1, zorder=-1\n",
    "    )\n",
    "\n",
    "    plt.title(f\"Length = {result['length']:.2f}\")\n",
    "\n",
    "    plt.axis(\"off\")\n",
    "\n",
    "\n",
    "result = regretful_insert_with_best_start(distance_matrix, k=2)\n",
    "plot(result, cities)"
   ]
  },
  {
   "cell_type": "code",
   "execution_count": null,
   "id": "2084be0a-5ab4-460b-a241-e77f40620828",
   "metadata": {},
   "outputs": [],
   "source": []
  }
 ],
 "metadata": {
  "kernelspec": {
   "display_name": "Python 3",
   "language": "python",
   "name": "python3"
  },
  "language_info": {
   "codemirror_mode": {
    "name": "ipython",
    "version": 3
   },
   "file_extension": ".py",
   "mimetype": "text/x-python",
   "name": "python",
   "nbconvert_exporter": "python",
   "pygments_lexer": "ipython3",
   "version": "3.9.9"
  }
 },
 "nbformat": 4,
 "nbformat_minor": 5
}
