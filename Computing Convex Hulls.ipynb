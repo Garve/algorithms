{
 "cells": [
  {
   "cell_type": "markdown",
   "id": "9317249e-5d11-4a5a-b6dc-7a47ffa2b3b1",
   "metadata": {},
   "source": [
    "# Computing Convex Hulls\n",
    "As described [here](https://medium.com/all-about-algorithms/computing-convex-hulls-b08c9c48ab5a)."
   ]
  },
  {
   "cell_type": "code",
   "execution_count": 1,
   "id": "bb61eaae-9a51-49cf-83b8-916420e68df6",
   "metadata": {},
   "outputs": [],
   "source": [
    "def check_is_left(a, b, c):\n",
    "    return (b[0] - a[0]) * (c[1] - a[1]) - (b[1] - a[1]) * (c[0] - a[0]) > 0"
   ]
  },
  {
   "cell_type": "code",
   "execution_count": 2,
   "id": "a652d21f-fbf7-4981-83ff-c8442a2b8e25",
   "metadata": {},
   "outputs": [
    {
     "data": {
      "text/plain": [
       "True"
      ]
     },
     "execution_count": 2,
     "metadata": {},
     "output_type": "execute_result"
    }
   ],
   "source": [
    "check_is_left((0, 0), (1, 1), (0, 1))"
   ]
  },
  {
   "cell_type": "code",
   "execution_count": 3,
   "id": "8ad37fd3-361b-46ca-a255-a678de031219",
   "metadata": {},
   "outputs": [
    {
     "data": {
      "text/plain": [
       "<matplotlib.collections.PathCollection at 0x1c301093e80>"
      ]
     },
     "execution_count": 3,
     "metadata": {},
     "output_type": "execute_result"
    },
    {
     "data": {
      "image/png": "[encoded data removed]",
      "text/plain": [
       "<Figure size 432x288 with 1 Axes>"
      ]
     },
     "metadata": {
      "needs_background": "light"
     },
     "output_type": "display_data"
    }
   ],
   "source": [
    "import random\n",
    "import matplotlib.pyplot as plt\n",
    "\n",
    "\n",
    "plt.plot([0, 1], [0, 1], c=\"r\", linewidth=1)  # line between (0, 0) and (1, 1)\n",
    "points = {\"x\": [], \"y\": [], \"color\": []}\n",
    "\n",
    "for _ in range(100):\n",
    "    x = random.random()\n",
    "    y = random.random()\n",
    "    points[\"x\"].append(x)\n",
    "    points[\"y\"].append(y)\n",
    "    points[\"color\"].append(check_is_left((0, 0), (1, 1), (x, y))),\n",
    "\n",
    "plt.scatter(points[\"x\"], points[\"y\"], c=points[\"color\"])"
   ]
  },
  {
   "cell_type": "code",
   "execution_count": 4,
   "id": "ae3be80d-7c27-4808-8202-f3b9e426ce94",
   "metadata": {},
   "outputs": [
    {
     "data": {
      "text/plain": [
       "(-1.5505645358104905, 2.7991909106442923, -1.42608803415992, 1.659548934281522)"
      ]
     },
     "execution_count": 4,
     "metadata": {},
     "output_type": "execute_result"
    },
    {
     "data": {
      "image/png": "[encoded data removed]",
      "text/plain": [
       "<Figure size 432x288 with 1 Axes>"
      ]
     },
     "metadata": {
      "needs_background": "light"
     },
     "output_type": "display_data"
    }
   ],
   "source": [
    "random.seed(123)\n",
    "\n",
    "points = [(random.normalvariate(0, 1), random.normalvariate(0, 1)) for _ in range(20)]\n",
    "\n",
    "plt.scatter(\n",
    "    [p[0] for p in points],\n",
    "    [p[1] for p in points],\n",
    ")\n",
    "plt.axis(\"off\")"
   ]
  },
  {
   "cell_type": "code",
   "execution_count": 5,
   "id": "14bd6806-b560-48fa-a925-e483eb5e0b8a",
   "metadata": {},
   "outputs": [],
   "source": [
    "def hull_naive(points):  # n points\n",
    "    hull_edges = []\n",
    "    for i, a in enumerate(points):  # all start points, O(n)\n",
    "        for j, b in enumerate(points):  # all end points, O(n)\n",
    "            if i != j:\n",
    "                on_hull = True\n",
    "                for k, c in enumerate(points):  # all other points, O(n)\n",
    "                    if k not in (i, j) and not check_is_left(a, b, c):\n",
    "                        on_hull = False\n",
    "                        break\n",
    "                if on_hull:\n",
    "                    hull_edges.append((i, j))  # add indices of the points\n",
    "    return hull_edges"
   ]
  },
  {
   "cell_type": "code",
   "execution_count": 6,
   "id": "5a118ef5-e690-4856-9d0e-233de720aa32",
   "metadata": {},
   "outputs": [
    {
     "data": {
      "text/plain": [
       "[(4, 17), (7, 14), (10, 4), (14, 10), (17, 7)]"
      ]
     },
     "execution_count": 6,
     "metadata": {},
     "output_type": "execute_result"
    }
   ],
   "source": [
    "hull_naive(points)"
   ]
  },
  {
   "cell_type": "code",
   "execution_count": 7,
   "id": "3be038e2-bf57-4323-bca9-bf0d84dcd411",
   "metadata": {},
   "outputs": [
    {
     "data": {
      "text/plain": [
       "[4, 17, 7, 14, 10, 4]"
      ]
     },
     "execution_count": 7,
     "metadata": {},
     "output_type": "execute_result"
    }
   ],
   "source": [
    "def make_path(hull_edges):  # h edges\n",
    "    hull_dict = dict(hull_edges)\n",
    "    hull = [hull_edges[0][0], hull_edges[0][1]]\n",
    "\n",
    "    while hull[-1] != hull[0]:  # O(h)\n",
    "        hull.append(hull_dict[hull[-1]])\n",
    "\n",
    "    return hull\n",
    "\n",
    "\n",
    "hull_egdes = hull_naive(points)\n",
    "make_path(hull_egdes)"
   ]
  },
  {
   "cell_type": "code",
   "execution_count": 8,
   "id": "418d9d82-6e65-436a-840d-ab76397ec73b",
   "metadata": {},
   "outputs": [],
   "source": [
    "def gift_wrapping(points):\n",
    "    start = min(enumerate(points), key=lambda x: x[1])[0]  # step 1\n",
    "    hull = []\n",
    "    n = len(points)\n",
    "\n",
    "    while True:  # O(h) times\n",
    "        hull.append(start)\n",
    "\n",
    "        while True:  # step 2, I really miss do-while loops in Python\n",
    "            end = random.choice(range(n))\n",
    "            if end != start:\n",
    "                break\n",
    "\n",
    "        for other in range(n):  # step 3, O(n)\n",
    "            if check_is_left(points[start], points[end], points[other]):\n",
    "                end = other  # step 3\n",
    "\n",
    "        if end == hull[0]:\n",
    "            return hull + [end]  # step 4, terminate\n",
    "        else:\n",
    "            start = end  # step 4, continue"
   ]
  },
  {
   "cell_type": "code",
   "execution_count": 9,
   "id": "4ce178d3-804f-4cff-8539-2699ba565272",
   "metadata": {},
   "outputs": [
    {
     "data": {
      "text/plain": [
       "[4, 10, 14, 7, 17, 4]"
      ]
     },
     "execution_count": 9,
     "metadata": {},
     "output_type": "execute_result"
    }
   ],
   "source": [
    "gift_wrapping(points)"
   ]
  },
  {
   "cell_type": "code",
   "execution_count": null,
   "id": "867807f3-55fc-4f49-bbba-5a0afea126b2",
   "metadata": {},
   "outputs": [],
   "source": []
  }
 ],
 "metadata": {
  "kernelspec": {
   "display_name": "Python 3",
   "language": "python",
   "name": "python3"
  },
  "language_info": {
   "codemirror_mode": {
    "name": "ipython",
    "version": 3
   },
   "file_extension": ".py",
   "mimetype": "text/x-python",
   "name": "python",
   "nbconvert_exporter": "python",
   "pygments_lexer": "ipython3",
   "version": "3.9.9"
  }
 },
 "nbformat": 4,
 "nbformat_minor": 5
}
